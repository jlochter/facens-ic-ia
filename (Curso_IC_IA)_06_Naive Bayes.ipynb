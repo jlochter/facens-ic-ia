{
 "cells": [
  {
   "cell_type": "markdown",
   "metadata": {},
   "source": [
    "# Naive Bayes - Implementação"
   ]
  },
  {
   "cell_type": "code",
   "execution_count": 1,
   "metadata": {},
   "outputs": [
    {
     "name": "stdout",
     "output_type": "stream",
     "text": [
      "(14, 5)\n"
     ]
    }
   ],
   "source": [
    "import pandas as pd\n",
    "\n",
    "df = pd.read_csv('golf.csv',sep='\\t')\n",
    "print(df.shape)"
   ]
  },
  {
   "cell_type": "code",
   "execution_count": 2,
   "metadata": {},
   "outputs": [
    {
     "data": {
      "text/html": [
       "<div>\n",
       "<style scoped>\n",
       "    .dataframe tbody tr th:only-of-type {\n",
       "        vertical-align: middle;\n",
       "    }\n",
       "\n",
       "    .dataframe tbody tr th {\n",
       "        vertical-align: top;\n",
       "    }\n",
       "\n",
       "    .dataframe thead th {\n",
       "        text-align: right;\n",
       "    }\n",
       "</style>\n",
       "<table border=\"1\" class=\"dataframe\">\n",
       "  <thead>\n",
       "    <tr style=\"text-align: right;\">\n",
       "      <th></th>\n",
       "      <th>Clima</th>\n",
       "      <th>Temperatura</th>\n",
       "      <th>Umidade</th>\n",
       "      <th>Vento</th>\n",
       "      <th>Jogar Golf?</th>\n",
       "    </tr>\n",
       "  </thead>\n",
       "  <tbody>\n",
       "    <tr>\n",
       "      <th>count</th>\n",
       "      <td>14</td>\n",
       "      <td>14</td>\n",
       "      <td>14</td>\n",
       "      <td>14</td>\n",
       "      <td>14</td>\n",
       "    </tr>\n",
       "    <tr>\n",
       "      <th>unique</th>\n",
       "      <td>3</td>\n",
       "      <td>3</td>\n",
       "      <td>2</td>\n",
       "      <td>2</td>\n",
       "      <td>2</td>\n",
       "    </tr>\n",
       "    <tr>\n",
       "      <th>top</th>\n",
       "      <td>Ensolarado</td>\n",
       "      <td>Moderado</td>\n",
       "      <td>Normal</td>\n",
       "      <td>FALSO</td>\n",
       "      <td>Sim</td>\n",
       "    </tr>\n",
       "    <tr>\n",
       "      <th>freq</th>\n",
       "      <td>5</td>\n",
       "      <td>6</td>\n",
       "      <td>7</td>\n",
       "      <td>8</td>\n",
       "      <td>9</td>\n",
       "    </tr>\n",
       "  </tbody>\n",
       "</table>\n",
       "</div>"
      ],
      "text/plain": [
       "             Clima Temperatura Umidade  Vento Jogar Golf?\n",
       "count           14          14      14     14          14\n",
       "unique           3           3       2      2           2\n",
       "top     Ensolarado    Moderado  Normal  FALSO         Sim\n",
       "freq             5           6       7      8           9"
      ]
     },
     "execution_count": 2,
     "metadata": {},
     "output_type": "execute_result"
    }
   ],
   "source": [
    "df.describe()"
   ]
  },
  {
   "cell_type": "markdown",
   "metadata": {},
   "source": [
    "## Qual a probabilidade de jogar golf?"
   ]
  },
  {
   "cell_type": "code",
   "execution_count": 4,
   "metadata": {},
   "outputs": [
    {
     "name": "stdout",
     "output_type": "stream",
     "text": [
      "Total de sim na coluna: 9\n",
      "Total de não na coluna: 5\n"
     ]
    }
   ],
   "source": [
    "df_sim = df[df['Jogar Golf?'] == 'Sim']\n",
    "df_nao = df[df['Jogar Golf?'] == 'Não']\n",
    "\n",
    "total_sim = len(df_sim)\n",
    "total_nao = len(df_nao)\n",
    "print(\"Total de sim na coluna:\", total_sim)\n",
    "print(\"Total de não na coluna:\", total_nao)"
   ]
  },
  {
   "cell_type": "markdown",
   "metadata": {},
   "source": [
    "## Encontrando a probabilidade dos valores para o atributo Clima"
   ]
  },
  {
   "cell_type": "code",
   "execution_count": 5,
   "metadata": {},
   "outputs": [
    {
     "data": {
      "text/plain": [
       "array(['Chuvoso', 'Nublado', 'Ensolarado'], dtype=object)"
      ]
     },
     "execution_count": 5,
     "metadata": {},
     "output_type": "execute_result"
    }
   ],
   "source": [
    "# vamos armazenar as probabilidades para cada valor do clima referente à Jogar Golf = Sim\n",
    "clima = dict()\n",
    "\n",
    "# quais valores esse atributo pode assumir?\n",
    "df['Clima'].unique()"
   ]
  },
  {
   "cell_type": "code",
   "execution_count": 7,
   "metadata": {},
   "outputs": [
    {
     "name": "stdout",
     "output_type": "stream",
     "text": [
      "Chuvoso 2\n",
      "Nublado 4\n",
      "Ensolarado 3\n"
     ]
    }
   ],
   "source": [
    "valores = df['Clima'].unique()\n",
    "\n",
    "# pra cada valor, vamos ver quantas linhas tem com a classe sim\n",
    "\n",
    "for v in valores:\n",
    "    linhas = df[ (df['Clima'] == v) & (df['Jogar Golf?'] == 'Sim') ]\n",
    "    print(v, len(linhas))"
   ]
  },
  {
   "cell_type": "code",
   "execution_count": 8,
   "metadata": {},
   "outputs": [
    {
     "name": "stdout",
     "output_type": "stream",
     "text": [
      "Chuvoso 0.2222222222222222\n",
      "Nublado 0.4444444444444444\n",
      "Ensolarado 0.3333333333333333\n"
     ]
    }
   ],
   "source": [
    "# para calcular a probabilidade, precisamos dividir essas quantidades pelo total de Jogar Golf? = Sim da base\n",
    "\n",
    "for v in valores:\n",
    "    linhas = df[ (df['Clima'] == v) & (df['Jogar Golf?'] == 'Sim') ]\n",
    "    print(v, len(linhas)/total_sim)\n"
   ]
  },
  {
   "cell_type": "code",
   "execution_count": 10,
   "metadata": {},
   "outputs": [
    {
     "name": "stdout",
     "output_type": "stream",
     "text": [
      "Chuvoso 0.6\n",
      "Nublado 0.0\n",
      "Ensolarado 0.4\n"
     ]
    }
   ],
   "source": [
    "# vamos fazer isso para a classe Jogar Golf = Não agora\n",
    "\n",
    "for v in valores:\n",
    "    linhas = df[ (df['Clima'] == v) & (df['Jogar Golf?'] == 'Não') ]\n",
    "    print(v, len(linhas)/total_nao)"
   ]
  },
  {
   "cell_type": "code",
   "execution_count": 12,
   "metadata": {},
   "outputs": [
    {
     "name": "stdout",
     "output_type": "stream",
     "text": [
      "Chuvoso 0.601\n",
      "Nublado 0.001\n",
      "Ensolarado 0.401\n"
     ]
    }
   ],
   "source": [
    "# sempre que uma probabilidade estiver zerada, precisamos corrigir ela com uma pequena adição pra não dar erro de cálculo\n",
    "\n",
    "for v in valores:\n",
    "    linhas = df[ (df['Clima'] == v) & (df['Jogar Golf?'] == 'Não') ]\n",
    "    p = len(linhas)/total_nao\n",
    "    if p == 0.0:\n",
    "        p += 0.001\n",
    "    print(v, p)"
   ]
  },
  {
   "cell_type": "markdown",
   "metadata": {},
   "source": [
    "## Calculando a probabilidade de cada atributo para cada classe"
   ]
  },
  {
   "cell_type": "code",
   "execution_count": 14,
   "metadata": {},
   "outputs": [
    {
     "name": "stdout",
     "output_type": "stream",
     "text": [
      "['Clima', 'Temperatura', 'Umidade', 'Vento']\n"
     ]
    }
   ],
   "source": [
    "prob_sim = dict()\n",
    "prob_nao = dict()\n",
    "\n",
    "colunas = list(df.columns)\n",
    "colunas.remove('Jogar Golf?')\n",
    "print(colunas)"
   ]
  },
  {
   "cell_type": "code",
   "execution_count": 15,
   "metadata": {},
   "outputs": [],
   "source": [
    "for c in colunas:\n",
    "    prob_sim[c] = dict()\n",
    "    prob_nao[c] = dict()\n",
    "    \n",
    "    valores_possiveis = df[c]\n",
    "    \n",
    "    valores = list(df_sim[c])\n",
    "    total = len(valores)\n",
    "    for v in set(valores_possiveis):\n",
    "        prob_sim[c][v] = valores.count(v) / total\n",
    "        if prob_sim[c][v] == 0:\n",
    "            prob_sim[c][v] = 0.0001\n",
    "            \n",
    "    valores = list(df_nao[c])\n",
    "    total = len(valores)\n",
    "    for v in set(valores_possiveis):\n",
    "        prob_nao[c][v] = valores.count(v) / total\n",
    "        if prob_nao[c][v] == 0:\n",
    "            prob_nao[c][v] = 0.0001"
   ]
  },
  {
   "cell_type": "code",
   "execution_count": 18,
   "metadata": {},
   "outputs": [
    {
     "data": {
      "text/plain": [
       "{'Ensolarado': 0.4, 'Nublado': 0.0001, 'Chuvoso': 0.6}"
      ]
     },
     "execution_count": 18,
     "metadata": {},
     "output_type": "execute_result"
    }
   ],
   "source": [
    "prob_nao['Clima'] # P(clima=chuvoso|JogarGolf=Sim)"
   ]
  },
  {
   "cell_type": "markdown",
   "metadata": {},
   "source": [
    "## Classificar a amostra Clima = Chuvoso, Temperatura = Frio, Umidade = Alta e Vento = Verdadeiro"
   ]
  },
  {
   "cell_type": "code",
   "execution_count": 22,
   "metadata": {},
   "outputs": [],
   "source": [
    "nao = (total_nao/total) * prob_nao['Clima']['Chuvoso'] * prob_nao['Temperatura']['Frio'] * prob_nao['Umidade']['Alta'] * prob_nao['Vento']['VERDADEIRO']\n",
    "sim = (total_sim/total) * prob_sim['Clima']['Chuvoso'] * prob_sim['Temperatura']['Frio'] * prob_sim['Umidade']['Alta'] * prob_sim['Vento']['VERDADEIRO']"
   ]
  },
  {
   "cell_type": "code",
   "execution_count": 23,
   "metadata": {},
   "outputs": [
    {
     "name": "stdout",
     "output_type": "stream",
     "text": [
      "Probabilidade de que as pessoas não vão jogar golf.\n"
     ]
    }
   ],
   "source": [
    "if sim > nao:\n",
    "    print(\"Probabilidade de que as pessoas vão jogar golf.\")\n",
    "else:\n",
    "    print(\"Probabilidade de que as pessoas não vão jogar golf.\")"
   ]
  },
  {
   "cell_type": "code",
   "execution_count": 24,
   "metadata": {},
   "outputs": [
    {
     "name": "stdout",
     "output_type": "stream",
     "text": [
      "0.01481481481481481\n",
      "0.0576\n"
     ]
    }
   ],
   "source": [
    "print(sim)\n",
    "print(nao)"
   ]
  },
  {
   "cell_type": "code",
   "execution_count": 25,
   "metadata": {},
   "outputs": [
    {
     "name": "stdout",
     "output_type": "stream",
     "text": [
      "{'Ensolarado': 0.3333333333333333, 'Nublado': 0.4444444444444444, 'Chuvoso': 0.2222222222222222}\n",
      "{'Ensolarado': 0.4, 'Nublado': 0.0001, 'Chuvoso': 0.6}\n"
     ]
    }
   ],
   "source": [
    "## E se eu levar em consideração apenas o clima?\n",
    "\n",
    "print(prob_sim['Clima'])\n",
    "print(prob_nao['Clima'])"
   ]
  },
  {
   "cell_type": "code",
   "execution_count": 26,
   "metadata": {},
   "outputs": [
    {
     "name": "stdout",
     "output_type": "stream",
     "text": [
      "{'Quente': 0.2222222222222222, 'Moderado': 0.4444444444444444, 'Frio': 0.3333333333333333}\n",
      "{'Quente': 0.4, 'Moderado': 0.4, 'Frio': 0.2}\n"
     ]
    }
   ],
   "source": [
    "## E se eu levar em consideração apenas a temperatura?\n",
    "\n",
    "print(prob_sim['Temperatura'])\n",
    "print(prob_nao['Temperatura'])"
   ]
  },
  {
   "cell_type": "code",
   "execution_count": 27,
   "metadata": {},
   "outputs": [
    {
     "name": "stdout",
     "output_type": "stream",
     "text": [
      "{'VERDADEIRO': 0.3333333333333333, 'FALSO': 0.6666666666666666}\n",
      "{'VERDADEIRO': 0.6, 'FALSO': 0.4}\n"
     ]
    }
   ],
   "source": [
    "## E se eu levar em consideração apenas o vento?\n",
    "\n",
    "print(prob_sim['Vento'])\n",
    "print(prob_nao['Vento'])"
   ]
  }
 ],
 "metadata": {
  "kernelspec": {
   "display_name": "Python 3",
   "language": "python",
   "name": "python3"
  },
  "language_info": {
   "codemirror_mode": {
    "name": "ipython",
    "version": 3
   },
   "file_extension": ".py",
   "mimetype": "text/x-python",
   "name": "python",
   "nbconvert_exporter": "python",
   "pygments_lexer": "ipython3",
   "version": "3.7.3"
  }
 },
 "nbformat": 4,
 "nbformat_minor": 2
}
