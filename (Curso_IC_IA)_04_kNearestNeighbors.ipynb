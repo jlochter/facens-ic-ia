{
 "cells": [
  {
   "cell_type": "markdown",
   "metadata": {},
   "source": [
    "## Aula 04 - K-Nearest Neighbors\n",
    "\n",
    "---\n",
    "\n",
    "Vamos iniciar carregando os dados, embaralhando as amostras, e separando 100 amostras para teste e 50 amostras para treino,"
   ]
  },
  {
   "cell_type": "code",
   "execution_count": null,
   "metadata": {},
   "outputs": [],
   "source": [
    "import numpy as np\n",
    "import pandas as pd\n",
    "\n",
    "df_dataset = pd.read_csv('iris.csv', sep=',', index_col=None)"
   ]
  },
  {
   "cell_type": "code",
   "execution_count": null,
   "metadata": {},
   "outputs": [],
   "source": [
    "df_dataset.head()"
   ]
  },
  {
   "cell_type": "code",
   "execution_count": null,
   "metadata": {},
   "outputs": [],
   "source": [
    "from sklearn.utils import shuffle\n",
    "df_dataset = shuffle(df_dataset, random_state=42)"
   ]
  },
  {
   "cell_type": "code",
   "execution_count": null,
   "metadata": {},
   "outputs": [],
   "source": [
    "df_dataset.head()"
   ]
  },
  {
   "cell_type": "code",
   "execution_count": null,
   "metadata": {},
   "outputs": [],
   "source": [
    "treino = df_dataset[:100].values\n",
    "teste = df_dataset[100:].values\n",
    "\n",
    "print(treino.shape)\n",
    "print(teste.shape)"
   ]
  },
  {
   "cell_type": "markdown",
   "metadata": {},
   "source": [
    "---\n",
    "\n",
    "Em seguida, vamos dar início à implementação do algoritmo KNN. O algoritmo funciona basicamente nas seguintes etapas:\n",
    "\n",
    "- Calcular a distância de uma amostra para todas as demais;\n",
    "- Pegar as n amostras mais próximas;\n",
    "- Computar qual a classe mais frequente."
   ]
  },
  {
   "cell_type": "markdown",
   "metadata": {},
   "source": [
    "### Calculando a distância"
   ]
  },
  {
   "cell_type": "code",
   "execution_count": null,
   "metadata": {},
   "outputs": [],
   "source": [
    "amostra_teste = teste[0,:4]\n",
    "amostra_treino = treino[0,:4]\n",
    "\n",
    "distancia = np.sum((amostra_treino - amostra_teste) ** 2) ** 0.5\n",
    "print(\"Distância entre duas amostras quaisquer:\", distancia)"
   ]
  },
  {
   "cell_type": "markdown",
   "metadata": {},
   "source": [
    "Também é possível calcular a distância para todas as amostras de uma só vez."
   ]
  },
  {
   "cell_type": "code",
   "execution_count": null,
   "metadata": {},
   "outputs": [],
   "source": [
    "distancias = np.sum((amostra_teste - treino[:,:4]) ** 2, axis=1) ** 0.5\n",
    "print(\"Distâncias de uma amostra de teste para todas as amostras de treino:\")\n",
    "print(distancias)"
   ]
  },
  {
   "cell_type": "markdown",
   "metadata": {},
   "source": [
    "---\n",
    "\n",
    "Em seguida, escolhemos quantos vizinhos vamos considerar e escolhemos os mais próximos da amostra avaliada.\n",
    "A partir dos índices encontrados, calculamos qual é a classe mais frequente e atribuímos à amostra."
   ]
  },
  {
   "cell_type": "code",
   "execution_count": null,
   "metadata": {},
   "outputs": [],
   "source": [
    "k = 5\n",
    "indices = distancias.argsort()[:k]\n",
    "print(\"Indices dos vizinhos mais próximos:\", indices)"
   ]
  },
  {
   "cell_type": "code",
   "execution_count": null,
   "metadata": {},
   "outputs": [],
   "source": [
    "from collections import Counter\n",
    "\n",
    "vizinhos = treino[indices,4]\n",
    "print(\"Vizinhos mais próximos:\", vizinhos)\n",
    "classe = Counter(vizinhos).most_common(1)[0][0]\n",
    "print(\"Classe mais frequente e quantidade:\", Counter(vizinhos).most_common(1))"
   ]
  },
  {
   "cell_type": "markdown",
   "metadata": {},
   "source": [
    "---\n",
    "\n",
    "Para verificar se a classe encontrada pelo modelo está correta, basta comparar a saída com o rótulo da amostra."
   ]
  },
  {
   "cell_type": "code",
   "execution_count": null,
   "metadata": {},
   "outputs": [],
   "source": [
    "classe_certa = teste[0, 4]\n",
    "print(classe_certa)\n",
    "if classe_certa == classe:\n",
    "    print(\"Correto\")\n",
    "else:\n",
    "    print(\"Errado\")"
   ]
  },
  {
   "cell_type": "markdown",
   "metadata": {},
   "source": [
    "---\n",
    "\n",
    "## Exercícios\n",
    "\n",
    "### (1) Estruture o código para funcionar como uma função, que tem a seguinte assinatura:\n",
    "\n",
    "**knn(X, y, xt)**\n",
    "\n",
    "Onde X representa as amostras de treino, y representa as classes do treino e xt representa uma amostra qualquer a ser rotulada."
   ]
  },
  {
   "cell_type": "code",
   "execution_count": null,
   "metadata": {},
   "outputs": [],
   "source": [
    "# implemente seu código aqui"
   ]
  },
  {
   "cell_type": "markdown",
   "metadata": {},
   "source": [
    "### (2) A partir da função anterior implementada, utilize-a para gerar as variações Edit KNN por remoção e inserção. Verifique o resultado final observando: a quantidade de amostras e a acurácia do conjunto de teste."
   ]
  },
  {
   "cell_type": "code",
   "execution_count": null,
   "metadata": {},
   "outputs": [],
   "source": [
    "# implemente seu código aqui\n",
    "\n",
    "## dica:\n",
    "\n",
    "## para adicionar uma linha\n",
    "## np.append(nome_vetor, item_novo, axis = 0)\n",
    "\n",
    "## para remover uma linha\n",
    "## np.delete(nome_vetor, indice_elemento, axis = 0)"
   ]
  },
  {
   "cell_type": "markdown",
   "metadata": {},
   "source": [
    "### (3) Aplique o algoritmo Edit KNN na base do Titanic e verifique o resultado final e a quantidade de amostras mantidas."
   ]
  },
  {
   "cell_type": "code",
   "execution_count": null,
   "metadata": {},
   "outputs": [],
   "source": []
  }
 ],
 "metadata": {
  "anaconda-cloud": {},
  "kernelspec": {
   "display_name": "Python 3",
   "language": "python",
   "name": "python3"
  },
  "language_info": {
   "codemirror_mode": {
    "name": "ipython",
    "version": 3
   },
   "file_extension": ".py",
   "mimetype": "text/x-python",
   "name": "python",
   "nbconvert_exporter": "python",
   "pygments_lexer": "ipython3",
   "version": "3.7.3"
  }
 },
 "nbformat": 4,
 "nbformat_minor": 1
}
