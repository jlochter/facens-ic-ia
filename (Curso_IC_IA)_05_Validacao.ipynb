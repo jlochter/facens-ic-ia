{
 "cells": [
  {
   "cell_type": "markdown",
   "metadata": {
    "_uuid": "c7b58b500e937f7d0f80b1920b86b86d054634e7"
   },
   "source": [
    "## Aula 05 - Validação de modelo\n"
   ]
  },
  {
   "cell_type": "code",
   "execution_count": null,
   "metadata": {
    "_cell_guid": "79c7e3d0-c299-4dcb-8224-4455121ee9b0",
    "_uuid": "d629ff2d2480ee46fbb7e2d37f6b5fab8052498a"
   },
   "outputs": [],
   "source": [
    "import numpy as np\n",
    "import pandas as pd\n",
    "\n",
    "# mais informações desse dataset: https://www.kaggle.com/jsphyg/weather-dataset-rattle-package\n",
    "chuvas = pd.read_csv('weatherAUS.csv')\n",
    "chuvas = chuvas.sample(5000)\n",
    "\n",
    "print(chuvas.shape)"
   ]
  },
  {
   "cell_type": "code",
   "execution_count": null,
   "metadata": {},
   "outputs": [],
   "source": [
    "chuvas.describe()"
   ]
  },
  {
   "cell_type": "code",
   "execution_count": null,
   "metadata": {},
   "outputs": [],
   "source": [
    "data = chuvas[['MinTemp','MaxTemp','Rainfall']]\n",
    "data = data.fillna({'MinTemp':data.MinTemp.mean(),'MaxTemp':data.MaxTemp.mean(),'Rainfall':data.Rainfall.mean()})\n",
    "\n",
    "target = chuvas[['RainTomorrow']].values.ravel()"
   ]
  },
  {
   "cell_type": "markdown",
   "metadata": {},
   "source": [
    "### Hold-out"
   ]
  },
  {
   "cell_type": "code",
   "execution_count": null,
   "metadata": {},
   "outputs": [],
   "source": [
    "# separando os dados em treino e teste\n",
    "from sklearn.model_selection import train_test_split\n",
    "X_train, X_test, y_train, y_test = train_test_split(data, target, test_size=0.33, random_state=42)"
   ]
  },
  {
   "cell_type": "code",
   "execution_count": null,
   "metadata": {
    "_uuid": "215594583e93cda8d295411b27b1a49f4331da2c"
   },
   "outputs": [],
   "source": [
    "# treinando o modelo \n",
    "from sklearn.neighbors import KNeighborsClassifier\n",
    "knn = KNeighborsClassifier(n_neighbors=3)\n",
    "knn.fit(X_train, y_train)\n",
    "\n",
    "# avaliando o modelo\n",
    "from sklearn.metrics import accuracy_score\n",
    "y_pred = knn.predict(X_test)\n",
    "accuracy_score(y_test, y_pred)"
   ]
  },
  {
   "cell_type": "markdown",
   "metadata": {},
   "source": [
    "### Grid Search"
   ]
  },
  {
   "cell_type": "code",
   "execution_count": null,
   "metadata": {
    "_uuid": "96a2df397e8bde8543f3bb4318b6811ba0a89a11"
   },
   "outputs": [],
   "source": [
    "from sklearn.model_selection import cross_val_score\n",
    "knn = KNeighborsClassifier(n_neighbors = 1)\n",
    "scores = cross_val_score(knn, data, target, cv=5) # 5 execuções diferentes com 20% dos dados para teste\n",
    "\n",
    "print('Acurácia - %.2f +- %.2f' % (scores.mean() * 100, scores.std() * 100))"
   ]
  },
  {
   "cell_type": "code",
   "execution_count": null,
   "metadata": {
    "_uuid": "83b26d7af62d5a09609f91d6858e7288713af332"
   },
   "outputs": [],
   "source": [
    "# utilizando validação cruzada com KFold\n",
    "from sklearn.model_selection import StratifiedKFold\n",
    "kf = StratifiedKFold(n_splits = 5)\n",
    "\n",
    "acc = []\n",
    "for train_index, test_index in kf.split(data, target): # precisa passar as classes agora para que a divisão aconteça\n",
    "    \n",
    "    # etapa de treinamento\n",
    "    knn = KNeighborsClassifier(n_neighbors = 1)\n",
    "    knn.fit(data.values[train_index],target[train_index])\n",
    "    \n",
    "    # etapa de teste\n",
    "    y_pred = knn.predict(data.values[test_index])\n",
    "    acc.append(accuracy_score(y_pred,target[test_index]))\n",
    "\n",
    "acc = np.asarray(acc) # converte pra numpy pra ficar mais simples de usar média e desvio padrão\n",
    "print('Acurácia - %.2f +- %.2f' % (acc.mean() * 100, acc.std() * 100))"
   ]
  },
  {
   "cell_type": "markdown",
   "metadata": {},
   "source": [
    "#### Manipulando as etapas de treino e teste individualmente"
   ]
  },
  {
   "cell_type": "code",
   "execution_count": null,
   "metadata": {
    "_uuid": "5ed4e2725a261d686e726dc6aa8487fffa0e071f"
   },
   "outputs": [],
   "source": [
    "from sklearn.model_selection import StratifiedKFold\n",
    "from sklearn.preprocessing import StandardScaler\n",
    "\n",
    "kf = StratifiedKFold(n_splits = 5)\n",
    "\n",
    "acc = []\n",
    "for train_index, test_index in kf.split(data, target): # precisa passar as classes agora para que a divisão aconteça\n",
    "    knn = KNeighborsClassifier(n_neighbors = 1)\n",
    "    \n",
    "    scaler = StandardScaler()\n",
    "    train = scaler.fit_transform(data.values[train_index]) # somente dados de treino no fit\n",
    "    test = scaler.transform(data.values[test_index]) # aplica-se transform no teste apenas\n",
    "    \n",
    "    knn.fit(train,target[train_index])\n",
    "    y_pred = knn.predict(test)\n",
    "    acc.append(accuracy_score(y_pred, target[test_index]))\n",
    "\n",
    "acc = np.asarray(acc) # converte pra numpy pra ficar mais simples de usar média e desvio padrão\n",
    "print('Acurácia - %.2f +- %.2f' % (acc.mean() * 100, acc.std() * 100))"
   ]
  },
  {
   "cell_type": "markdown",
   "metadata": {},
   "source": [
    "#### Utilizando Pipeline do Scikit-Learn"
   ]
  },
  {
   "cell_type": "code",
   "execution_count": null,
   "metadata": {},
   "outputs": [],
   "source": [
    "# utilizando validação cruzada com cross_val_score\n",
    "from sklearn.model_selection import cross_val_score\n",
    "\n",
    "from sklearn.pipeline import Pipeline\n",
    "pipeline = Pipeline([('scaler', StandardScaler()), ('clf', KNeighborsClassifier(n_neighbors = 1))])\n",
    "scores = cross_val_score(pipeline, data, target, cv=5) # 5 execuções diferentes com 20% dos dados para teste\n",
    "\n",
    "print('Acurácia - %.2f +- %.2f' % (scores.mean() * 100, scores.std() * 100))"
   ]
  },
  {
   "cell_type": "markdown",
   "metadata": {},
   "source": [
    "### Procurando por hiperparâmetros"
   ]
  },
  {
   "cell_type": "code",
   "execution_count": null,
   "metadata": {
    "_uuid": "5ea3cea33dc00d1116d27d2c3f2deac97794704e"
   },
   "outputs": [],
   "source": [
    "# separa-se uma parcela para encontrar os melhores parâmetros (5% do original)\n",
    "data_gs, data_cv, target_gs, target_cv = train_test_split(data, target, test_size=0.95, random_state=42, stratify=target)\n",
    "\n",
    "# uma forma automática de StandardScaler + CLF\n",
    "from sklearn.pipeline import Pipeline\n",
    "pipeline = Pipeline([('scaler', StandardScaler()), ('clf', KNeighborsClassifier())])\n",
    "\n",
    "# utiliza-se GridSearchCV para achar os melhores parâmetros\n",
    "from sklearn.model_selection import GridSearchCV\n",
    "parameters = {'clf__n_neighbors': [1,2,3,4,5], 'clf__weights' : ['uniform','distance']} # quais parâmetros e quais valores serão testados\n",
    "clf = GridSearchCV(pipeline, parameters, cv=3) # clf vai armazenar qual foi a melhor configuração\n",
    "clf.fit(data_gs, target_gs)\n",
    "\n",
    "print(clf.best_params_)\n",
    "\n",
    "# utilizando validação cruzada para avaliar o modelo\n",
    "scores = cross_val_score(clf.best_estimator_, data_cv, target_cv, cv=5)\n",
    "print('Resultados:', scores)\n",
    "print('Acurácia - %.2f +- %.2f' % (scores.mean() * 100, scores.std() * 100))"
   ]
  },
  {
   "cell_type": "markdown",
   "metadata": {
    "_uuid": "e8240c0485b01f706d7d2f2476c2056614c0cf0f"
   },
   "source": [
    "# Exercício\n",
    "\n",
    "Construir um modelo avaliando os aspectos estudados até agora:\n",
    "\n",
    "- Fazer análise das colunas (considerando todas);\n",
    "- Escolher as colunas a serem utilizadas (exceção de RainTomorrow);\n",
    "- Decidir qual pré-processamento será feito;\n",
    "- Aplicar a busca por parâmetros;\n",
    "- Validar o modelo usando validação cruzada;\n",
    "- Apresentar os resultados."
   ]
  },
  {
   "cell_type": "code",
   "execution_count": null,
   "metadata": {},
   "outputs": [],
   "source": []
  }
 ],
 "metadata": {
  "kernelspec": {
   "display_name": "Python 3",
   "language": "python",
   "name": "python3"
  },
  "language_info": {
   "codemirror_mode": {
    "name": "ipython",
    "version": 3
   },
   "file_extension": ".py",
   "mimetype": "text/x-python",
   "name": "python",
   "nbconvert_exporter": "python",
   "pygments_lexer": "ipython3",
   "version": "3.7.3"
  }
 },
 "nbformat": 4,
 "nbformat_minor": 1
}
